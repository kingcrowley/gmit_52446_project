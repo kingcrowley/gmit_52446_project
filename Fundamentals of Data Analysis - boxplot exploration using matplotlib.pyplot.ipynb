{
 "cells": [
  {
   "cell_type": "markdown",
   "metadata": {},
   "source": [
    "# Introduction\n",
    "In (descriptive) statistics, a box plot or box and whisker plot is a method for graphically depicting groups of numerical data through their quartiles. To be more precise the box plot displays a five-number summary of a set of data. The five-number summary is often the minimum, first quartile, median, third quartile, and maximum.\n",
    "\n",
    "But the ends of the whiskers can represent several possible alternative values, among them:\n",
    "\n",
    "* the minimum and maximum of all of the data\n",
    "* the lowest datum still within 1.5 Inter Quartile Range (IQR) of the lower quartile, and the highest datum still within 1.5 IQR of the upper quartile (often called the Tukey boxplot)\n",
    "* one standard deviation above and below the mean of the data\n",
    "* the 9th percentile and the 91st percentile\n",
    "* the 2nd percentile and the 98th percentile.\n",
    "\n",
    "\n",
    "In a box plot, we draw a box from the first quartile to the third quartile. A vertical line goes through the box at the median. The whiskers go from each quartile to the minimum or maximum as shown below (as above the whiskers could be representing other values part from maximum and min values but for brevity I will discuss just maximum and minimum).\n",
    "![Box Plot Image](https://cdn-images-1.medium.com/max/1600/1*2c21SkzJMf3frPXPAR_gZA.png)\n",
    "\n",
    "Image taken from https://cdn-images-1.medium.com/max/1600/1*2c21SkzJMf3frPXPAR_gZA.png\n",
    "\n",
    "# Terms\n",
    "\n",
    "* quartile (first, third)\n",
    "* inter quartile range \n",
    "* standard deviation\n",
    "* percentile\n",
    "* mean\n",
    "* datum \n",
    "\n",
    "Box plots are non-parametric: they display variation in samples of a statistical population without making any assumptions of the underlying statistical distribution. Nonparametric statistics refer to a statistical method in which the data is not required to fit a normal distribution. The spacings between the different parts of the box indicate the degree of dispersion (spread) and skewness in the data, and show outliers. In addition to the points themselves, they allow one to visually estimate various L-estimators, notably the interquartile range, midhinge, range, mid-range, and trimean. Box plots can be drawn either horizontally or vertically. Box plots received their name from the box in the middle.\n",
    "\n",
    "Details and types of whiskers taken from\n",
    "\n",
    "[1] https://en.wikipedia.org/wiki/Box_plot  \n",
    "[2] https://www.khanacademy.org/math/statistics-probability/summarizing-quantitative-data/box-whisker-plots/a/box-plot-review\n",
    "\n",
    "\n",
    "\n",
    "# History\n",
    "\n",
    "\n",
    "# Uses\n"
   ]
  },
  {
   "cell_type": "code",
   "execution_count": null,
   "metadata": {},
   "outputs": [],
   "source": []
  }
 ],
 "metadata": {
  "kernelspec": {
   "display_name": "Python 3",
   "language": "python",
   "name": "python3"
  },
  "language_info": {
   "codemirror_mode": {
    "name": "ipython",
    "version": 3
   },
   "file_extension": ".py",
   "mimetype": "text/x-python",
   "name": "python",
   "nbconvert_exporter": "python",
   "pygments_lexer": "ipython3",
   "version": "3.6.7"
  }
 },
 "nbformat": 4,
 "nbformat_minor": 2
}
