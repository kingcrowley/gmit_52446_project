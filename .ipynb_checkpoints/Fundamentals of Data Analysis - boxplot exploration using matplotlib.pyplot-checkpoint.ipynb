{
 "cells": [
  {
   "cell_type": "markdown",
   "metadata": {},
   "source": [
    "# Introduction\n",
    "In (descriptive) statistics, a box plot or box and whisker plot is a method for graphically depicting groups of numerical data through their quartiles. To be more precise the box plot displays a five-number summary of a set of data. The five-number summary is often the minimum, first quartile, median, third quartile, and maximum.\n",
    "\n",
    "But the ends of the whiskers can represent several possible alternative values, among them:\n",
    "\n",
    "* the minimum and maximum of all of the data\n",
    "* the lowest datum still within 1.5 Inter Quartile Range (IQR) of the lower quartile, and the highest datum still within 1.5 IQR of the upper quartile (often called the Tukey boxplot)\n",
    "* one standard deviation above and below the mean of the data\n",
    "* the 9th percentile and the 91st percentile\n",
    "* the 2nd percentile and the 98th percentile.\n",
    "\n",
    "\n",
    "In a box plot, we draw a box from the first quartile to the third quartile. A vertical line goes through the box at the median. The whiskers go from each quartile to the minimum or maximum as shown below (as above the whiskers could be representing other values part from maximum and min values but for brevity I will discuss just maximum and minimum).\n",
    "![Box Plot Image](https://cdn-images-1.medium.com/max/1600/1*2c21SkzJMf3frPXPAR_gZA.png)\n",
    "\n",
    "Image taken from https://cdn-images-1.medium.com/max/1600/1*2c21SkzJMf3frPXPAR_gZA.png\n",
    "\n",
    "# Terms\n",
    "\n",
    "* quartile - each of four equal groups into which a population can be divided according to the distribution of values of a particular variable (the image below shows the realtionship between the quartiles of a box plot and a nomally distributed poplulation)\n",
    "* first quartile (lower)- splits off the lowest 25% of data from the highest 75%\n",
    "* third quartile (higher) - splits off the highest 25% of data from the lowest 75%\n",
    "* inter quartile range - IQR is the range between the first quartle and the third quartile. Shown in diagram below. The \"box\" of the bloxplot represents the IQR.\n",
    "* median - cuts data set in half \n",
    "* percentile - each of the 100 equal groups into which a population can be divided according to the distribution of values of a particular variable. For example if a baby was born of average height then they would be in the 50th percentile. \n",
    "\n",
    "\n",
    "![Quartiles](https://upload.wikimedia.org/wikipedia/commons/thumb/1/1a/Boxplot_vs_PDF.svg/598px-Boxplot_vs_PDF.svg.png)\n",
    "\n",
    "Box plots are non-parametric: they display variation in samples of a statistical population without making any assumptions of the underlying statistical distribution. Nonparametric statistics refer to a statistical method in which the data is not required to fit a normal distribution. The spacings between the different parts of the box indicate the degree of dispersion (spread) and skewness in the data, and show outliers. In addition to the points themselves, they allow one to visually estimate various L-estimators, notably the interquartile range, midhinge, range, mid-range, and trimean. Box plots can be drawn either horizontally or vertically. Box plots received their name from the box in the middle.\n",
    "\n",
    "Details and types of whiskers taken from\n",
    "\n",
    "[1] https://en.wikipedia.org/wiki/Box_plot  \n",
    "[2] https://www.khanacademy.org/math/statistics-probability/summarizing-quantitative-data/box-whisker-plots/a/box-plot-review\n",
    "\n",
    "\n",
    "\n",
    "# History\n",
    "John Tukey introduced the box and whiskers plot as part of his toolkit for exploratory data analysis [1],\n",
    ", but it did not become widely known until formal publication [2]. Tulkey's schematic plot as he described it has been adapted to include different or more than the five datapoints described above. Some boxplots replace the extremes with fixed quantiles (e.g. min and max, 2% and 98%) or use multipliers other than 1.5 for the whiskers. Others use the\n",
    "semi-interquartile ranges (e.g. Q1 − Q2) for asymmetric whiskers, or alternative definitions of outliers also exist; others have used additional graphical elements to display distributional features like kurtosis (the sharpness of the peak of a frequency-distribution curve), skewness and multimodality, and mean and standard error [3].\n",
    "\n",
    "Boxplots were envisaged by Tukey as a more space effective way of displaying data than histograms or other similar graphs.  Boxplots use summary statistics that are well known and that are always located at actual data points, are quickly computable (originally by hand), and have no tuning parameters. They are particularly useful for comparing distributions across groups. As an approach they show a lot of data in a small area. Wickham and  Stryjewski state that \"today, over 40 years later, the boxplot has become one of the most frequently used statistical graphics, and is one of the few plot types invented in the 20th century that has found widespread adoption. Due to their elegance and practicality, boxplots have spawned a wealth of variations and enhancement.\"\n",
    "\n",
    "[1] J. W. Tukey. Exploratory Data Analysis. Addison–Wesley, preliminary edition, 1970.  \n",
    "[2] J. W. Tukey. Exploratory Data Analysis. Addison–Wesley, 1977.\n",
    "[3] Hadley Wickham and Lisa Stryjewski. 40 years of boxplots, 2011. \n",
    "\n",
    "# Uses\n"
   ]
  },
  {
   "cell_type": "markdown",
   "metadata": {},
   "source": [
    "# Examples"
   ]
  },
  {
   "cell_type": "code",
   "execution_count": 1,
   "metadata": {},
   "outputs": [
    {
     "data": {
      "image/png": "[encoded data removed]",
      "text/plain": [
       "<Figure size 432x288 with 1 Axes>"
      ]
     },
     "metadata": {
      "needs_background": "light"
     },
     "output_type": "display_data"
    }
   ],
   "source": [
    "# from https://matplotlib.org/gallery/pyplots/boxplot_demo_pyplot.html#sphx-glr-gallery-pyplots-boxplot-demo-pyplot-py\n",
    "%matplotlib inline\n",
    "import numpy as np\n",
    "import pandas as pd\n",
    "import matplotlib.pyplot as plt\n",
    "\n",
    "# Fixing random state for reproducibility\n",
    "np.random.seed(19680801)\n",
    "\n",
    "# fake up some data\n",
    "spread = np.random.rand(50) * 100\n",
    "center = np.ones(25) * 50\n",
    "## generating outliers above and below\n",
    "flier_high = np.random.rand(10) * 100 + 100\n",
    "flier_low = np.random.rand(10) * -100\n",
    "data = np.concatenate((spread, center, flier_high, flier_low))\n",
    "fig1, ax1 = plt.subplots()\n",
    "ax1.set_title('Basic Plot')\n",
    "ax1.boxplot(data)\n",
    "plt.show()"
   ]
  },
  {
   "cell_type": "markdown",
   "metadata": {},
   "source": [
    "The lower-horizontal edge of the box specifes the 1st quartile, while the upper-horizontal edge specifes the 3rd quartile. The\n",
    "horizontal line in the red specifes the median value. The difference in the 1st and 3rd quartile values is called the Inter Quartile Range or IQR. The lower and upper horizontal edges in black specify the minimum and maximum values respectively."
   ]
  },
  {
   "cell_type": "markdown",
   "metadata": {},
   "source": [
    "# Examples\n",
    "\n",
    "Simple boxplot example using the Iris dataset<sup>1</sup> as a simple example of a boxplot with real data. Here I use the describe() method to show the average values, standard deviations, minimum and maximum values, and quantiles (at 25 percent, 50 percent, and 75 percent), the so-called quartiles. \n",
    "\n",
    "This provides a way to examine the features that a boxplot visualises as the goal of the boxplot is to visualise these summary statistics.\n",
    "\n",
    "1 https://archive.ics.uci.edu/ml/datasets/Iris"
   ]
  },
  {
   "cell_type": "code",
   "execution_count": 2,
   "metadata": {},
   "outputs": [
    {
     "data": {
      "text/html": [
       "<div>\n",
       "<style scoped>\n",
       "    .dataframe tbody tr th:only-of-type {\n",
       "        vertical-align: middle;\n",
       "    }\n",
       "\n",
       "    .dataframe tbody tr th {\n",
       "        vertical-align: top;\n",
       "    }\n",
       "\n",
       "    .dataframe thead th {\n",
       "        text-align: right;\n",
       "    }\n",
       "</style>\n",
       "<table border=\"1\" class=\"dataframe\">\n",
       "  <thead>\n",
       "    <tr style=\"text-align: right;\">\n",
       "      <th></th>\n",
       "      <th>sepal_length</th>\n",
       "      <th>sepal_width</th>\n",
       "      <th>petal_length</th>\n",
       "      <th>petal_width</th>\n",
       "    </tr>\n",
       "  </thead>\n",
       "  <tbody>\n",
       "    <tr>\n",
       "      <th>count</th>\n",
       "      <td>150.000000</td>\n",
       "      <td>150.000000</td>\n",
       "      <td>150.000000</td>\n",
       "      <td>150.000000</td>\n",
       "    </tr>\n",
       "    <tr>\n",
       "      <th>mean</th>\n",
       "      <td>5.843333</td>\n",
       "      <td>3.054000</td>\n",
       "      <td>3.758667</td>\n",
       "      <td>1.198667</td>\n",
       "    </tr>\n",
       "    <tr>\n",
       "      <th>std</th>\n",
       "      <td>0.828066</td>\n",
       "      <td>0.433594</td>\n",
       "      <td>1.764420</td>\n",
       "      <td>0.763161</td>\n",
       "    </tr>\n",
       "    <tr>\n",
       "      <th>min</th>\n",
       "      <td>4.300000</td>\n",
       "      <td>2.000000</td>\n",
       "      <td>1.000000</td>\n",
       "      <td>0.100000</td>\n",
       "    </tr>\n",
       "    <tr>\n",
       "      <th>25%</th>\n",
       "      <td>5.100000</td>\n",
       "      <td>2.800000</td>\n",
       "      <td>1.600000</td>\n",
       "      <td>0.300000</td>\n",
       "    </tr>\n",
       "    <tr>\n",
       "      <th>50%</th>\n",
       "      <td>5.800000</td>\n",
       "      <td>3.000000</td>\n",
       "      <td>4.350000</td>\n",
       "      <td>1.300000</td>\n",
       "    </tr>\n",
       "    <tr>\n",
       "      <th>75%</th>\n",
       "      <td>6.400000</td>\n",
       "      <td>3.300000</td>\n",
       "      <td>5.100000</td>\n",
       "      <td>1.800000</td>\n",
       "    </tr>\n",
       "    <tr>\n",
       "      <th>max</th>\n",
       "      <td>7.900000</td>\n",
       "      <td>4.400000</td>\n",
       "      <td>6.900000</td>\n",
       "      <td>2.500000</td>\n",
       "    </tr>\n",
       "  </tbody>\n",
       "</table>\n",
       "</div>"
      ],
      "text/plain": [
       "       sepal_length  sepal_width  petal_length  petal_width\n",
       "count    150.000000   150.000000    150.000000   150.000000\n",
       "mean       5.843333     3.054000      3.758667     1.198667\n",
       "std        0.828066     0.433594      1.764420     0.763161\n",
       "min        4.300000     2.000000      1.000000     0.100000\n",
       "25%        5.100000     2.800000      1.600000     0.300000\n",
       "50%        5.800000     3.000000      4.350000     1.300000\n",
       "75%        6.400000     3.300000      5.100000     1.800000\n",
       "max        7.900000     4.400000      6.900000     2.500000"
      ]
     },
     "execution_count": 2,
     "metadata": {},
     "output_type": "execute_result"
    }
   ],
   "source": [
    "iris_filename = 'iris.data'\n",
    "iris = pd.read_csv(iris_filename, header=None,\n",
    "names= ['sepal_length', 'sepal_width',\n",
    "'petal_length', 'petal_width', 'target'])\n",
    "iris.describe()"
   ]
  },
  {
   "cell_type": "code",
   "execution_count": 3,
   "metadata": {},
   "outputs": [
    {
     "data": {
      "image/png": "[encoded data removed]",
      "text/plain": [
       "<Figure size 432x288 with 1 Axes>"
      ]
     },
     "metadata": {
      "needs_background": "light"
     },
     "output_type": "display_data"
    }
   ],
   "source": [
    "iris.boxplot(return_type='axes')\n",
    "plt.show()"
   ]
  },
  {
   "cell_type": "code",
   "execution_count": null,
   "metadata": {},
   "outputs": [],
   "source": []
  },
  {
   "cell_type": "markdown",
   "metadata": {},
   "source": []
  }
 ],
 "metadata": {
  "kernelspec": {
   "display_name": "Python 3",
   "language": "python",
   "name": "python3"
  },
  "language_info": {
   "codemirror_mode": {
    "name": "ipython",
    "version": 3
   },
   "file_extension": ".py",
   "mimetype": "text/x-python",
   "name": "python",
   "nbconvert_exporter": "python",
   "pygments_lexer": "ipython3",
   "version": "3.6.7"
  }
 },
 "nbformat": 4,
 "nbformat_minor": 2
}
