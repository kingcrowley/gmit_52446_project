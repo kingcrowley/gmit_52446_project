{
 "cells": [
  {
   "attachments": {},
   "cell_type": "markdown",
   "metadata": {},
   "source": [
    "# Introduction\n",
    "In (descriptive) statistics, a box plot or box and whisker plot is a method for graphically depicting groups of numerical data through their quartiles. To be more precise the box plot displays a five-number summary of a set of data. The five-number summary is often the minimum, first quartile, median, third quartile, and maximum.\n",
    "\n",
    "But the ends of the whiskers can represent several possible alternative values, among them:\n",
    "\n",
    "* the minimum and maximum of all of the data\n",
    "* the lowest datum still within 1.5 Inter Quartile Range (IQR) of the lower quartile, and the highest datum still within 1.5 IQR of the upper quartile (often called the Tukey boxplot)\n",
    "* one standard deviation above and below the mean of the data\n",
    "* the 9th percentile and the 91st percentile\n",
    "* the 2nd percentile and the 98th percentile.\n",
    "\n",
    "\n",
    "In a box plot, we draw a box from the first quartile to the third quartile. A vertical line goes through the box at the median. The whiskers go from each quartile to the minimum or maximum as shown below (as above the whiskers could be representing other values part from maximum and min values but for brevity I will discuss just maximum and minimum).\n",
    "![Box Plot Image](https://cdn-images-1.medium.com/max/1600/1*2c21SkzJMf3frPXPAR_gZA.png)\n",
    "\n",
    "Image taken from https://cdn-images-1.medium.com/max/1600/1*2c21SkzJMf3frPXPAR_gZA.png\n",
    "\n",
    "# Terms\n",
    "\n",
    "* quartile - each of four equal groups into which a population can be divided according to the distribution of values of a particular variable (the image below shows the realtionship between the quartiles of a box plot and a nomally distributed poplulation)\n",
    "* first quartile (lower)- splits off the lowest 25% of data from the highest 75%\n",
    "* third quartile (higher) - splits off the highest 25% of data from the lowest 75%\n",
    "* inter quartile range - IQR is the range between the first quartle and the third quartile. Shown in diagram below. The \"box\" of the bloxplot represents the IQR.\n",
    "* median - cuts data set in half \n",
    "* percentile - each of the 100 equal groups into which a population can be divided according to the distribution of values of a particular variable. For example if a baby was born of average height then they would be in the 50th percentile. \n",
    "\n",
    "\n",
    "![Quartiles](https://upload.wikimedia.org/wikipedia/commons/thumb/1/1a/Boxplot_vs_PDF.svg/598px-Boxplot_vs_PDF.svg.png)\n",
    "\n",
    "Box plots are non-parametric: they display variation in samples of a statistical population without making any assumptions of the underlying statistical distribution. Nonparametric statistics refer to a statistical method in which the data is not required to fit a normal distribution. The spacings between the different parts of the box indicate the degree of dispersion (spread) and skewness in the data, and show outliers. In addition to the points themselves, they allow one to visually estimate various L-estimators, notably the interquartile range, midhinge, range, mid-range, and trimean. Box plots can be drawn either horizontally or vertically. Box plots received their name from the box in the middle.\n",
    "\n",
    "Details and types of whiskers taken from\n",
    "\n",
    "[1] https://en.wikipedia.org/wiki/Box_plot  \n",
    "[2] https://www.khanacademy.org/math/statistics-probability/summarizing-quantitative-data/box-whisker-plots/a/box-plot-review\n",
    "\n",
    "\n",
    "\n",
    "# History\n",
    "\n",
    "\n",
    "# Uses\n"
   ]
  },
  {
   "cell_type": "markdown",
   "metadata": {},
   "source": [
    "# Examples"
   ]
  },
  {
   "cell_type": "code",
   "execution_count": 12,
   "metadata": {},
   "outputs": [
    {
     "data": {
      "image/png": "[encoded data removed]",
      "text/plain": [
       "<Figure size 432x288 with 1 Axes>"
      ]
     },
     "metadata": {
      "needs_background": "light"
     },
     "output_type": "display_data"
    }
   ],
   "source": [
    "import numpy as np\n",
    "import matplotlib.pyplot as plt\n",
    "\n",
    "# Fixing random state for reproducibility\n",
    "np.random.seed(19680801)\n",
    "\n",
    "# fake up some data\n",
    "spread = np.random.rand(50) * 100\n",
    "center = np.ones(25) * 50\n",
    "flier_high = np.random.rand(10) * 100 + 100\n",
    "flier_low = np.random.rand(10) * -100\n",
    "data = np.concatenate((spread, center, flier_high, flier_low))\n",
    "fig1, ax1 = plt.subplots()\n",
    "ax1.set_title('Basic Plot')\n",
    "ax1.boxplot(data)\n",
    "plt.show()"
   ]
  },
  {
   "cell_type": "code",
   "execution_count": null,
   "metadata": {},
   "outputs": [],
   "source": []
  }
 ],
 "metadata": {
  "kernelspec": {
   "display_name": "Python 3",
   "language": "python",
   "name": "python3"
  },
  "language_info": {
   "codemirror_mode": {
    "name": "ipython",
    "version": 3
   },
   "file_extension": ".py",
   "mimetype": "text/x-python",
   "name": "python",
   "nbconvert_exporter": "python",
   "pygments_lexer": "ipython3",
   "version": "3.6.7"
  }
 },
 "nbformat": 4,
 "nbformat_minor": 2
}
